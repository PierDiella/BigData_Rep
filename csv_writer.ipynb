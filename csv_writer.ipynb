{
  "nbformat": 4,
  "nbformat_minor": 0,
  "metadata": {
    "colab": {
      "provenance": [],
      "authorship_tag": "ABX9TyPNDSGftvev4j4wyNUm6ORU",
      "include_colab_link": true
    },
    "kernelspec": {
      "name": "python3",
      "display_name": "Python 3"
    },
    "language_info": {
      "name": "python"
    }
  },
  "cells": [
    {
      "cell_type": "markdown",
      "metadata": {
        "id": "view-in-github",
        "colab_type": "text"
      },
      "source": [
        "<a href=\"https://colab.research.google.com/github/PierDiella/BigData_Rep/blob/main/csv_writer.ipynb\" target=\"_parent\"><img src=\"https://colab.research.google.com/assets/colab-badge.svg\" alt=\"Open In Colab\"/></a>"
      ]
    },
    {
      "cell_type": "code",
      "execution_count": null,
      "metadata": {
        "id": "5DDcaazO1baM"
      },
      "outputs": [],
      "source": [
        "import csv\n",
        "\n",
        "with open('rec.csv', mode='w') as csv_file:\n",
        "    fieldnames = ['W_in', 'b_in', 'alpha', 'lamda_', 'cost']\n",
        "    writer = csv.DictWriter(csv_file, fieldnames=fieldnames)\n",
        "\n",
        "    writer.writeheader()\n",
        "    writer.writerow({'W_in': W_in, 'b_in': b_in, 'alpha': alpha, 'lamda_': lamda_, 'cost': cost})\n",
        "\n",
        "\n"
      ]
    }
  ]
}